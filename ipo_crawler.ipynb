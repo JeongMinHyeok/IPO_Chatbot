{
 "cells": [
  {
   "cell_type": "code",
   "execution_count": 59,
   "id": "a221b9c2-0c4b-430f-ad46-22e468ebfbab",
   "metadata": {},
   "outputs": [],
   "source": [
    "import requests\n",
    "from requests.adapters import HTTPAdapter\n",
    "from requests.packages.urllib3.util.retry import Retry\n",
    "from bs4 import BeautifulSoup as bs\n",
    "from datetime import datetime\n",
    "\n",
    "url = 'http://www.ipostock.co.kr/sub03/ipo06.asp'"
   ]
  },
  {
   "cell_type": "code",
   "execution_count": 62,
   "id": "004f453f-7fd1-4835-8739-9472cfc5eed0",
   "metadata": {},
   "outputs": [],
   "source": [
    "def html_parsing(url):\n",
    "    # 세션 생성\n",
    "    session = requests.Session()\n",
    "    \n",
    "    # 재시도 로직 설정\n",
    "    retries = Retry(total=5, backoff_factor=0.1, status_forcelist=[500, 502, 503, 504])\n",
    "    adapter = HTTPAdapter(max_retries=retries)\n",
    "    session.mount('http://', adapter)\n",
    "    \n",
    "    try:\n",
    "        response = session.get(url)\n",
    "        response.raise_for_status()  # HTTP 에러가 발생하면 예외를 발생시킴\n",
    "        response.encoding='UTF-8' # 한글 깨지는 문제 예방\n",
    "        html_text = response.text\n",
    "        return html_text\n",
    "        # print(response.text)\n",
    "    except requests.exceptions.RequestException as e:\n",
    "        print(f\"Error: {e}\")"
   ]
  },
  {
   "cell_type": "code",
   "execution_count": 83,
   "id": "85900803-c9b7-41bc-8f84-57f4e43c5c0c",
   "metadata": {},
   "outputs": [],
   "source": [
    "ipo_cal = html_parsing(url)"
   ]
  },
  {
   "cell_type": "code",
   "execution_count": 84,
   "id": "b74c2422-fda5-47fa-9753-ca7c1d0b6175",
   "metadata": {},
   "outputs": [],
   "source": [
    "soup = bs(ipo_cal, 'html.parser')"
   ]
  },
  {
   "cell_type": "code",
   "execution_count": 90,
   "id": "306995d2-ab32-4883-a5b0-928fdd0aa45d",
   "metadata": {},
   "outputs": [],
   "source": [
    "# 데이터 저장을 위한 딕셔너리 초기화\n",
    "data = {}\n",
    "\n",
    "# td 태그를 모두 찾음\n",
    "tds = soup.find_all('td', class_='days')\n",
    "\n",
    "for td in tds:\n",
    "    date_tag = td.find('strong')\n",
    "    if date_tag:\n",
    "        date = date_tag.text.strip()\n",
    "        rows = td.find_all('tr')\n",
    "        \n",
    "        for row in rows:\n",
    "            img_tag = row.find('img')\n",
    "            a_tag = row.find('a')\n",
    "            \n",
    "            if img_tag and a_tag:\n",
    "                img_src = img_tag['src']\n",
    "                link = a_tag['href']\n",
    "                title = a_tag['title']\n",
    "                \n",
    "                # 날짜를 키로 사용하여 링크, 제목, 이미지 src를 저장\n",
    "                if date not in data:\n",
    "                    data[date] = []\n",
    "                data[date].append({'link': link, 'title': title, 'img_src': img_src})"
   ]
  },
  {
   "cell_type": "code",
   "execution_count": 91,
   "id": "ee6be974-c3da-4aac-abaf-db006e4ca1b4",
   "metadata": {
    "scrolled": true
   },
   "outputs": [
    {
     "name": "stdout",
     "output_type": "stream",
     "text": [
      "Date: 1\n",
      "  Link: /view_pg/view_04.asp?code=B202405291, Title: 신한글로벌액티브리츠, Img Src: ../image/icon/ipo7.jpg\n",
      "Date: 2\n",
      "  Link: /view_pg/view_04.asp?code=B202312111, Title: 이노스페이스, Img Src: ../image/icon/ipo7.jpg\n",
      "Date: 3\n",
      "  Link: /view_pg/view_04.asp?code=B202402201, Title: 하스, Img Src: ../image/icon/ipo7.jpg\n",
      "  Link: /view_pg/view_04.asp?code=B202403051, Title: 시프트업, Img Src: ../image/icon/ipo4.gif\n",
      "  Link: /view_pg/view_04.asp?code=B202403221, Title: 이베스트스팩6호, Img Src: ../image/icon/ipo4.gif\n",
      "Date: 4\n",
      "  Link: /view_pg/view_04.asp?code=B202104161, Title: 엑셀세라퓨틱스, Img Src: ../image/icon/ipo4.gif\n",
      "Date: 5\n",
      "  Link: /view_pg/view_04.asp?code=B202403051, Title: 시프트업, Img Src: ../image/icon/ipo6.jpg\n",
      "  Link: /view_pg/view_04.asp?code=B202403221, Title: 이베스트스팩6호, Img Src: ../image/icon/ipo6.jpg\n",
      "Date: 8\n",
      "  Link: /view_pg/view_04.asp?code=B202104161, Title: 엑셀세라퓨틱스, Img Src: ../image/icon/ipo6.jpg\n",
      "Date: 10\n",
      "  Link: /view_pg/view_04.asp?code=B202404022, Title: 에스케이증권제13호스팩, Img Src: ../image/icon/ipo3.jpg\n",
      "  Link: /view_pg/view_04.asp?code=B202405033, Title: 엔에이치스팩31호, Img Src: ../image/icon/ipo3.jpg\n",
      "Date: 11\n",
      "  Link: /view_pg/view_04.asp?code=B202403051, Title: 시프트업, Img Src: ../image/icon/ipo7.jpg\n",
      "Date: 12\n",
      "  Link: /view_pg/view_04.asp?code=B202403221, Title: 이베스트스팩6호, Img Src: ../image/icon/ipo7.jpg\n",
      "Date: 15\n",
      "  Link: /view_pg/view_04.asp?code=B202104161, Title: 엑셀세라퓨틱스, Img Src: ../image/icon/ipo7.jpg\n",
      "  Link: /view_pg/view_04.asp?code=B202404123, Title: 산일전기, Img Src: ../image/icon/ipo3.jpg\n",
      "Date: 16\n",
      "  Link: /view_pg/view_04.asp?code=B202404022, Title: 에스케이증권제13호스팩, Img Src: ../image/icon/ipo4.gif\n",
      "Date: 17\n",
      "  Link: /view_pg/view_04.asp?code=B202311183, Title: 피앤에스미캐닉스, Img Src: ../image/icon/ipo3.jpg\n",
      "  Link: /view_pg/view_04.asp?code=B202405033, Title: 엔에이치스팩31호, Img Src: ../image/icon/ipo4.gif\n",
      "Date: 18\n",
      "  Link: /view_pg/view_04.asp?code=B202404022, Title: 에스케이증권제13호스팩, Img Src: ../image/icon/ipo6.jpg\n",
      "Date: 19\n",
      "  Link: /view_pg/view_04.asp?code=B202309262, Title: 아이빔테크놀로지, Img Src: ../image/icon/ipo3.jpg\n",
      "  Link: /view_pg/view_04.asp?code=B202404123, Title: 산일전기, Img Src: ../image/icon/ipo4.gif\n",
      "  Link: /view_pg/view_04.asp?code=B202405033, Title: 엔에이치스팩31호, Img Src: ../image/icon/ipo6.jpg\n",
      "Date: 23\n",
      "  Link: /view_pg/view_04.asp?code=B202311183, Title: 피앤에스미캐닉스, Img Src: ../image/icon/ipo4.gif\n",
      "  Link: /view_pg/view_04.asp?code=B202404123, Title: 산일전기, Img Src: ../image/icon/ipo6.jpg\n",
      "Date: 24\n",
      "  Link: /view_pg/view_04.asp?code=B202309141, Title: 키움제9호스팩, Img Src: ../image/icon/ipo3.jpg\n",
      "  Link: /view_pg/view_04.asp?code=B202312031, Title: 티디에스팜, Img Src: ../image/icon/ipo3.jpg\n",
      "Date: 25\n",
      "  Link: /view_pg/view_04.asp?code=B202404022, Title: 에스케이증권제13호스팩, Img Src: ../image/icon/ipo7.jpg\n",
      "  Link: /view_pg/view_04.asp?code=B202311183, Title: 피앤에스미캐닉스, Img Src: ../image/icon/ipo6.jpg\n",
      "Date: 26\n",
      "  Link: /view_pg/view_04.asp?code=B202405033, Title: 엔에이치스팩31호, Img Src: ../image/icon/ipo7.jpg\n",
      "  Link: /view_pg/view_04.asp?code=B202309262, Title: 아이빔테크놀로지, Img Src: ../image/icon/ipo4.gif\n",
      "Date: 29\n",
      "  Link: /view_pg/view_04.asp?code=B202404123, Title: 산일전기, Img Src: ../image/icon/ipo7.jpg\n",
      "  Link: /view_pg/view_04.asp?code=B202307271, Title: 이엔셀, Img Src: ../image/icon/ipo3.jpg\n",
      "  Link: /view_pg/view_04.asp?code=B202402081, Title: 뱅크웨어글로벌, Img Src: ../image/icon/ipo3.jpg\n",
      "  Link: /view_pg/view_04.asp?code=B202309141, Title: 키움제9호스팩, Img Src: ../image/icon/ipo4.gif\n",
      "Date: 30\n",
      "  Link: /view_pg/view_04.asp?code=B202405162, Title: 교보16호스팩, Img Src: ../image/icon/ipo3.jpg\n",
      "  Link: /view_pg/view_04.asp?code=B202309262, Title: 아이빔테크놀로지, Img Src: ../image/icon/ipo6.jpg\n",
      "Date: 31\n",
      "  Link: /view_pg/view_04.asp?code=B202312031, Title: 티디에스팜, Img Src: ../image/icon/ipo4.gif\n",
      "  Link: /view_pg/view_04.asp?code=B202309141, Title: 키움제9호스팩, Img Src: ../image/icon/ipo6.jpg\n"
     ]
    }
   ],
   "source": [
    "# 결과 출력\n",
    "for date, infos in data.items():\n",
    "    print(f\"Date: {date}\")\n",
    "    for info in infos:\n",
    "        print(f\"  Link: {info['link']}, Title: {info['title']}, Img Src: {info['img_src']}\")"
   ]
  },
  {
   "cell_type": "code",
   "execution_count": 25,
   "id": "70e4e789-656f-4c26-ad8c-aa6b10c2861c",
   "metadata": {},
   "outputs": [],
   "source": [
    "today = datetime.now().strftime(\"%d\")"
   ]
  },
  {
   "cell_type": "code",
   "execution_count": 153,
   "id": "b6ced28c-b4fc-473b-9b4e-55af85f95149",
   "metadata": {},
   "outputs": [],
   "source": [
    "today_ipo_data = {}\n",
    "\n",
    "today = '3'\n",
    "\n",
    "if data[today]:\n",
    "    for i in range(len(data[today])):\n",
    "        link = data[today][i]['link']\n",
    "        detail_url = 'http://www.ipostock.co.kr' + link\n",
    "        detail_soup = bs(html_parsing(detail_url), 'html.parser')\n",
    "        table = detail_soup.find_all('table', class_='view_tb')\n",
    "        ipo_sub_date, ipo_refund_date, ipo_public_date, confirmed_ipo_price, company = detail_crawling(table)\n",
    "        today_ipo_data[data[today][i]['title']] = [ipo_sub_date, ipo_refund_date, ipo_public_date, confirmed_ipo_price, company]\n",
    "        \n",
    "else:\n",
    "    print('no')"
   ]
  },
  {
   "cell_type": "code",
   "execution_count": 154,
   "id": "093ce1c5-315b-40f2-a86e-32fa359d0e5d",
   "metadata": {},
   "outputs": [
    {
     "data": {
      "text/plain": [
       "{'하스': ['2024.06.24 ~ 06.25',\n",
       "  '2024.06.27',\n",
       "  '2024.07.03',\n",
       "  '16,000 원',\n",
       "  ['삼성증권']],\n",
       " '시프트업': ['2024.07.02 ~ 07.03',\n",
       "  '2024.07.05',\n",
       "  '2024.07.11',\n",
       "  '60,000 원',\n",
       "  ['한국투자증권', 'NH투자증권', '신한투자증권']],\n",
       " '이베스트스팩6호': ['2024.07.02 ~ 07.03',\n",
       "  '2024.07.05',\n",
       "  '2024.07.12',\n",
       "  '2,000 원',\n",
       "  ['이베스트투자']]}"
      ]
     },
     "execution_count": 154,
     "metadata": {},
     "output_type": "execute_result"
    }
   ],
   "source": [
    "today_ipo_data"
   ]
  },
  {
   "cell_type": "code",
   "execution_count": 111,
   "id": "ab7c5889-6cd2-48a0-95fa-840444df3e64",
   "metadata": {},
   "outputs": [],
   "source": [
    "detail_url = 'http://www.ipostock.co.kr' + link\n",
    "detail_soup = bs(html_parsing(detail_url), 'html.parser')"
   ]
  },
  {
   "cell_type": "code",
   "execution_count": 112,
   "id": "bb2b2b62-c558-46f5-b243-a8dc35c58938",
   "metadata": {},
   "outputs": [],
   "source": [
    "table = detail_soup.find_all('table', class_='view_tb')"
   ]
  },
  {
   "cell_type": "code",
   "execution_count": 148,
   "id": "e25778a0-c5bd-4103-8d09-e17c0926e136",
   "metadata": {
    "scrolled": true
   },
   "outputs": [],
   "source": [
    "def detail_crawling(table):\n",
    "    # 필요한 정보 저장을 위한 변수 초기화\n",
    "    ipo_sub_date = None\n",
    "    ipo_refund_date = None\n",
    "    ipo_public_date = None\n",
    "    confirmed_ipo_price = None\n",
    "    company = []\n",
    "    \n",
    "    for row in table[0].find_all('tr'):\n",
    "        cells = row.find_all('td')\n",
    "        if '공모청약일' in cells[0].text:\n",
    "            ipo_sub_date = cells[1].text.strip()\n",
    "        elif '환불일' in cells[0].text:\n",
    "            ipo_refund_date = cells[1].text.strip()\n",
    "        elif '상장일' in cells[0].text:\n",
    "            ipo_public_date = cells[1].text.strip()\n",
    "    \n",
    "    for row in table[1].find_all('tr'):\n",
    "        cells = row.find_all('td')\n",
    "        if '(확정)공모가격' in cells[0].text:\n",
    "            confirmed_ipo_price = cells[1].text.strip()\n",
    "    \n",
    "    for row in table[3].find_all('tr'):\n",
    "        cells = row.find_all('td')\n",
    "        if '증권회사' not in cells[0].text:\n",
    "            company.append(cells[0].text.strip())\n",
    "\n",
    "    return ipo_sub_date, ipo_refund_date, ipo_public_date, confirmed_ipo_price, company"
   ]
  },
  {
   "cell_type": "code",
   "execution_count": 142,
   "id": "11c55c88-b743-4e7b-88e1-b876b4eeb2dd",
   "metadata": {},
   "outputs": [
    {
     "name": "stdout",
     "output_type": "stream",
     "text": [
      "공모청약일: 2024.07.15 ~ 07.16\n",
      "환불일: 2024.07.18\n",
      "상장일: 2024.07.25\n",
      "(확정)공모가격: 2,000 원\n",
      "증권회사: ['SK증권']\n"
     ]
    }
   ],
   "source": [
    "# 결과 출력\n",
    "print(f\"공모청약일: {ipo_dates.get('공모청약일')}\")\n",
    "print(f\"환불일: {ipo_dates.get('환불일')}\")\n",
    "print(f\"상장일: {ipo_dates.get('상장일')}\")\n",
    "print(f\"(확정)공모가격: {confirmed_ipo_price}\")\n",
    "print(f\"증권회사: {company}\")"
   ]
  },
  {
   "cell_type": "code",
   "execution_count": null,
   "id": "a7674490-7cb9-4772-97ba-445026b2d804",
   "metadata": {},
   "outputs": [],
   "source": []
  }
 ],
 "metadata": {
  "kernelspec": {
   "display_name": "Python 3 (ipykernel)",
   "language": "python",
   "name": "python3"
  },
  "language_info": {
   "codemirror_mode": {
    "name": "ipython",
    "version": 3
   },
   "file_extension": ".py",
   "mimetype": "text/x-python",
   "name": "python",
   "nbconvert_exporter": "python",
   "pygments_lexer": "ipython3",
   "version": "3.9.0"
  }
 },
 "nbformat": 4,
 "nbformat_minor": 5
}
